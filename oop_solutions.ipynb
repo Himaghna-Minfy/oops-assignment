{
 "cells": [
  {
   "cell_type": "code",
   "execution_count": 1,
   "id": "ffb6c44b-3f44-4d29-9a0f-af3fef26a3cd",
   "metadata": {},
   "outputs": [
    {
     "name": "stdout",
     "output_type": "stream",
     "text": [
      "50\n",
      "30\n"
     ]
    }
   ],
   "source": [
    "class Rectangle:\n",
    "    def __init__(self, width, height):\n",
    "        self.width = width\n",
    "        self.height = height\n",
    "\n",
    "    def area(self):\n",
    "        return self.width * self.height\n",
    "\n",
    "    def perimeter(self):\n",
    "        return 2 * (self.width + self.height)\n",
    "\n",
    "# Example usage\n",
    "rect = Rectangle(5, 10)\n",
    "print(rect.area())        # Output: 50\n",
    "print(rect.perimeter())   # Output: 30\n"
   ]
  },
  {
   "cell_type": "code",
   "execution_count": 2,
   "id": "3f9623e2-463c-43e2-8473-c3bd0406cf43",
   "metadata": {},
   "outputs": [
    {
     "name": "stdout",
     "output_type": "stream",
     "text": [
      "2\n",
      "1\n",
      "0\n"
     ]
    }
   ],
   "source": [
    "class Counter:\n",
    "    def __init__(self):\n",
    "        self.value = 0\n",
    "\n",
    "    def increment(self):\n",
    "        self.value += 1\n",
    "\n",
    "    def decrement(self):\n",
    "        self.value -= 1\n",
    "\n",
    "    def reset(self):\n",
    "        self.value = 0\n",
    "\n",
    "# Example usage\n",
    "counter = Counter()\n",
    "counter.increment()\n",
    "counter.increment()\n",
    "print(counter.value)   # Output: 2\n",
    "counter.decrement()\n",
    "print(counter.value)   # Output: 1\n",
    "counter.reset()\n",
    "print(counter.value)   # Output: 0\n"
   ]
  },
  {
   "cell_type": "code",
   "execution_count": 3,
   "id": "415515d3-6e8c-4d79-becc-2f6d16b74533",
   "metadata": {},
   "outputs": [
    {
     "name": "stdout",
     "output_type": "stream",
     "text": [
      "Toyota\n",
      "4\n"
     ]
    }
   ],
   "source": [
    "class Vehicle:\n",
    "    def __init__(self, make, model, year):\n",
    "        self.make = make\n",
    "        self.model = model\n",
    "        self.year = year\n",
    "\n",
    "class Car(Vehicle):\n",
    "    def __init__(self, make, model, year, doors, fuel_type):\n",
    "        super().__init__(make, model, year)\n",
    "        self.doors = doors\n",
    "        self.fuel_type = fuel_type\n",
    "\n",
    "# Example usage\n",
    "car = Car(\"Toyota\", \"Corolla\", 2020, 4, \"Gasoline\")\n",
    "print(car.make)    # Output: Toyota\n",
    "print(car.doors)   # Output: 4\n"
   ]
  },
  {
   "cell_type": "code",
   "execution_count": 4,
   "id": "c92ffd6f-5ccc-408a-a5c0-c4223561940f",
   "metadata": {},
   "outputs": [
    {
     "name": "stdout",
     "output_type": "stream",
     "text": [
      "1000\n",
      "1500\n",
      "1300\n",
      "123456\n",
      "2000\n",
      "1300\n"
     ]
    }
   ],
   "source": [
    "class BankAccount:\n",
    "    def __init__(self, account_number, balance):\n",
    "        self.__account_number = account_number  # Private attribute\n",
    "        self.__balance = balance                # Private attribute\n",
    "\n",
    "    def deposit(self, amount):\n",
    "        if amount > 0:\n",
    "            self.__balance += amount\n",
    "\n",
    "    def withdraw(self, amount):\n",
    "        if 0 < amount <= self.__balance:\n",
    "            self.__balance -= amount\n",
    "\n",
    "    def get_balance(self):\n",
    "        return self.__balance\n",
    "\n",
    "    def get_account_number(self):\n",
    "        return self.__account_number\n",
    "\n",
    "# Example usage\n",
    "account = BankAccount(\"123456\", 1000)\n",
    "print(account.get_balance())        # Output: 1000\n",
    "account.deposit(500)\n",
    "print(account.get_balance())        # Output: 1500\n",
    "account.withdraw(200)\n",
    "print(account.get_balance())        # Output: 1300\n",
    "print(account.get_account_number()) # Output: \"123456\"\n",
    "\n",
    "# Direct access should not be allowed\n",
    "try:\n",
    "    account.__balance = 2000\n",
    "    print(account.__balance)  # Won't affect the real private variable\n",
    "    print(account.get_balance())  # Output: 1300 (unchanged)\n",
    "except AttributeError:\n",
    "    print(\"Cannot directly access private attribute\")\n"
   ]
  },
  {
   "cell_type": "code",
   "execution_count": null,
   "id": "89de3cc1-fd25-4b20-9bca-82680c7d7d53",
   "metadata": {},
   "outputs": [],
   "source": []
  }
 ],
 "metadata": {
  "kernelspec": {
   "display_name": "Python [conda env:base] *",
   "language": "python",
   "name": "conda-base-py"
  },
  "language_info": {
   "codemirror_mode": {
    "name": "ipython",
    "version": 3
   },
   "file_extension": ".py",
   "mimetype": "text/x-python",
   "name": "python",
   "nbconvert_exporter": "python",
   "pygments_lexer": "ipython3",
   "version": "3.12.7"
  }
 },
 "nbformat": 4,
 "nbformat_minor": 5
}
